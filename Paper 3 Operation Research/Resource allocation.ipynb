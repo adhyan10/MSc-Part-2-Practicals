{
 "cells": [
  {
   "cell_type": "markdown",
   "metadata": {},
   "source": [
    "### Use SciPy to solve the resource allocation problem stated as follows:\n",
    "\n",
    "Max z=20x1 + 12x2  + 40x3 + 25x4.......(profit)\n",
    "\n",
    "subjected to:\n",
    "    \n",
    "    x1+x2+x3+x4<=50.......(manpower)\n",
    "    \n",
    "    3x1+2x2+x3<=100.......(material A)\n",
    "    \n",
    "    x2+2x3+3x3<=90    ........(material B)\n",
    "    \n",
    "    x1,x2,x3,x4>=0\n"
   ]
  },
  {
   "cell_type": "code",
   "execution_count": 7,
   "metadata": {},
   "outputs": [],
   "source": [
    "from scipy.optimize import linprog"
   ]
  },
  {
   "cell_type": "code",
   "execution_count": 8,
   "metadata": {},
   "outputs": [],
   "source": [
    "obj=[-20,-12,-40,-25]"
   ]
  },
  {
   "cell_type": "code",
   "execution_count": 9,
   "metadata": {},
   "outputs": [],
   "source": [
    "lhs_ineq=[[1,1,1,1],[3,2,1,0],[0,1,2,3]]"
   ]
  },
  {
   "cell_type": "code",
   "execution_count": 10,
   "metadata": {},
   "outputs": [],
   "source": [
    "rhs_ineq=[50,100,90]"
   ]
  },
  {
   "cell_type": "code",
   "execution_count": 11,
   "metadata": {},
   "outputs": [],
   "source": [
    "opt=linprog(c=obj,A_ub=lhs_ineq,b_ub=rhs_ineq,method='revised simplex')"
   ]
  },
  {
   "cell_type": "code",
   "execution_count": 12,
   "metadata": {},
   "outputs": [
    {
     "data": {
      "text/plain": [
       "     con: array([], dtype=float64)\n",
       "     fun: -1900.0\n",
       " message: 'Optimization terminated successfully.'\n",
       "     nit: 2\n",
       "   slack: array([ 0., 40.,  0.])\n",
       "  status: 0\n",
       " success: True\n",
       "       x: array([ 5.,  0., 45.,  0.])"
      ]
     },
     "execution_count": 12,
     "metadata": {},
     "output_type": "execute_result"
    }
   ],
   "source": [
    "opt"
   ]
  },
  {
   "cell_type": "markdown",
   "metadata": {},
   "source": [
    "#### The result tells you that the maximal profit is 1900 and coressponds to x1=5 and x3=45.Its not profitable to produce the second and fourth products under the given conditions .You can draw several interesting  conclusions here:\n",
    "\n",
    "#### The third product brings the largest profit per unit,so the factory will produce it the most.\n",
    "\n",
    "#### The first slack is 0,which means that the values of the left and right  sides of the manpower(first) constraint are the same.The company produces 50 units per day,and that's its  full capacity.\n",
    "\n",
    "#### The second slack is 40 because  the factory consumes 60 units of raw material A out of the potentioal 100 units.\n",
    "\n",
    "#### The third slack is 0,which means that the factory consumes all the 90 units ofthe raw material B.This entire amount is consumed for the third product .Thats why the factory can't produce the second or the fourth product at all and can't produce more than 45 units of the third product .It lacks the raw material B.\n",
    "\n",
    "#### opt.status is 0 and opt.success is true,indicating that the optimization problem was successfully solved with the optimal feasible solution."
   ]
  },
  {
   "cell_type": "code",
   "execution_count": null,
   "metadata": {},
   "outputs": [],
   "source": []
  }
 ],
 "metadata": {
  "kernelspec": {
   "display_name": "Python 3",
   "language": "python",
   "name": "python3"
  },
  "language_info": {
   "codemirror_mode": {
    "name": "ipython",
    "version": 3
   },
   "file_extension": ".py",
   "mimetype": "text/x-python",
   "name": "python",
   "nbconvert_exporter": "python",
   "pygments_lexer": "ipython3",
   "version": "3.7.6"
  }
 },
 "nbformat": 4,
 "nbformat_minor": 4
}
